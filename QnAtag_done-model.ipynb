{
 "cells": [
  {
   "cell_type": "markdown",
   "metadata": {},
   "source": [
    "# ViCare QnA specialty classification\n",
    "## Making predictions\n",
    "- Title: QnAtag_done-model.py\n",
    "- Description: make predictions after training model\n",
    "- Author: Dinh Van Quy | <quy.dinh3195@gmail.com>\n",
    "- Date created: 2017-04-17\n",
    "- Version: 0.1\n",
    "- Usage:\n",
    "- Notes:\n",
    "- Python_version: 2.7.13"
   ]
  },
  {
   "cell_type": "code",
   "execution_count": 1,
   "metadata": {
    "collapsed": true
   },
   "outputs": [],
   "source": [
    "#Set up parameters\n",
    "vect_obj = 'QnAtag_logit_TfidfVectorizer_1count-words-removal_lbfgs_vect-export.pkl'\n",
    "model_file = 'QnAtag_logit_TfidfVectorizer_1count-words-removal_lbfgs_model.pkl'"
   ]
  },
  {
   "cell_type": "code",
   "execution_count": 2,
   "metadata": {
    "collapsed": false
   },
   "outputs": [],
   "source": [
    "#Import modules\n",
    "from sklearn.externals import joblib\n",
    "from sklearn.feature_extraction.text import TfidfVectorizer\n",
    "from pyvi.pyvi import ViTokenizer\n",
    "import pandas as pd\n",
    "\n",
    "#Load trained model\n",
    "logit_model = joblib.load(model_file)\n",
    "\n",
    "#Define function that process raw Vietnamese medical question into the form that is able to be inputed into model\n",
    "def run_prediction():\n",
    "    question = raw_input('Câu hỏi của bạn dành cho bác sĩ: ')\n",
    "    question = unicode(question, encoding='utf-8')\n",
    "    \n",
    "    #Vectorize question\n",
    "    vect = joblib.load(vect_obj)\n",
    "    question = pd.Series(question)\n",
    "    question = vect.transform(question)\n",
    "    \n",
    "    #Do the predicting\n",
    "    predict_spec = logit_model.predict_proba(question)\n",
    "    proba = predict_spec[0]\n",
    "    proba = pd.Series(proba)\n",
    "    \n",
    "    #Format results\n",
    "    labels = logit_model.classes_\n",
    "    labels = pd.Series(labels)\n",
    "    classes_proba = pd.concat([labels, proba], axis=1, keys=['Chuyên khoa', 'Xác suất'])\n",
    "    classes_proba_top10 = classes_proba.sort_values(by='Xác suất', ascending=False)[:5]\n",
    "    return classes_proba_top10"
   ]
  },
  {
   "cell_type": "code",
   "execution_count": 23,
   "metadata": {
    "collapsed": false
   },
   "outputs": [
    {
     "name": "stdout",
     "output_type": "stream",
     "text": [
      "Câu hỏi của bạn dành cho bác sĩ: Xin hỏi bác sĩ. Tôi có đi khám ở bệnh viện huyện đông anh, có kết luận tôi bị hạch ở cổ Nhưng tôi muốn khám chi tiết hơn, muốn chọc dịch hạch xem có tế bào ác tính hay ko Vậy tôi nên làm như thế nào Xin camt ơn ạ\n"
     ]
    },
    {
     "data": {
      "text/html": [
       "<div>\n",
       "<table border=\"1\" class=\"dataframe\">\n",
       "  <thead>\n",
       "    <tr style=\"text-align: right;\">\n",
       "      <th></th>\n",
       "      <th>Chuyên khoa</th>\n",
       "      <th>Xác suất</th>\n",
       "    </tr>\n",
       "  </thead>\n",
       "  <tbody>\n",
       "    <tr>\n",
       "      <th>63</th>\n",
       "      <td>Ung bướu</td>\n",
       "      <td>0.221217</td>\n",
       "    </tr>\n",
       "    <tr>\n",
       "      <th>46</th>\n",
       "      <td>Nội tiết</td>\n",
       "      <td>0.210039</td>\n",
       "    </tr>\n",
       "    <tr>\n",
       "      <th>53</th>\n",
       "      <td>Tai - Mũi - Họng</td>\n",
       "      <td>0.150415</td>\n",
       "    </tr>\n",
       "    <tr>\n",
       "      <th>17</th>\n",
       "      <td>Khám bệnh</td>\n",
       "      <td>0.061525</td>\n",
       "    </tr>\n",
       "    <tr>\n",
       "      <th>52</th>\n",
       "      <td>Sản phụ khoa</td>\n",
       "      <td>0.047381</td>\n",
       "    </tr>\n",
       "  </tbody>\n",
       "</table>\n",
       "</div>"
      ],
      "text/plain": [
       "         Chuyên khoa  Xác suất\n",
       "63          Ung bướu  0.221217\n",
       "46          Nội tiết  0.210039\n",
       "53  Tai - Mũi - Họng  0.150415\n",
       "17         Khám bệnh  0.061525\n",
       "52      Sản phụ khoa  0.047381"
      ]
     },
     "execution_count": 23,
     "metadata": {},
     "output_type": "execute_result"
    }
   ],
   "source": [
    "run_prediction()"
   ]
  },
  {
   "cell_type": "code",
   "execution_count": 4,
   "metadata": {
    "collapsed": true
   },
   "outputs": [],
   "source": [
    "questions = ['Chào bác sỹ e bi rach ra o mu ban chân bi nhiễm trung roi nam vien dieu tri va da rut chi dc 2 ttuan roi ah vet thuong da lien nhung khi cho chan tiep dat thi nhu máu dc don xuong va da chuyen sang mau tim den nhu vay co sao ko ah',\n",
    "             'Chào bác sĩ em muốn đặt lịch bác sĩ khám ơ bệnh viện bạch mai thì làm thế nào.',\n",
    "            'Cho cháu hỏi có thể đặt lịch khám trước được không ạ',\n",
    "            'Xin hỏi em bị cao huyết áp thì phương pháp chữa là như thế nào ạ',\n",
    "            'Bac si ơi cho e hỏi.có người anh vừa bị tai nạn giao thông.a bị va chạm ở đầu.bây giờ anh rất chán ăn.e thì lo mà không biết nên mua gì để tẩm bổ. Bác sĩ tư vấn cho ạ',\n",
    "            'Tôi đang bị rụng tóc theo mảng và đã uống Maxhair, vitamin B5 và Biotin liệu có được không ạ? Cho tôi hỏi thêm là tôi dùng dầu có nhiều dưỡng và tinh dầu có được không ạ? hay gội bồ kết thôi ạ? Tôi xin cám ơn!']"
   ]
  },
  {
   "cell_type": "markdown",
   "metadata": {},
   "source": [
    "## Conclusion\n",
    "The cross-validation results above infer that Logistic Regression should be the chosen technique for this problem of auto-tagging specialties at medical questions from ViCare users.\n",
    "\n",
    "#### Current best record:\n",
    ">- Accuracy with all training data: <font color='0083e4'>**75.109%**</font>, runtime: <font color='orange'>**126s**</font>\n",
    ">- Cross-validation score: <font color='0083e4'>**68.943%**</font>, runtime: <font color='orange'>**474s**</font>\n",
    "\n",
    "Actually the preprocessing data has not been done well enough. Inputing the raw data into model yields an **Accuracy Score** of <font color='0083e4'>**73.800%**</font>, runtime of <font color='orange'>**109s**</font>, with **Cross-validation Score** of <font color='0083e4'>**67.791%**</font>, <font color='orange'>**391s**</font> respectively. This means that current preprocessing data effort only leads to just a <font color='green'>**1.152%**</font> increase in performance.\n",
    "\n",
    "#### Possible improvements:\n",
    "- Handle non-accented Vietnamese. Current model performs quite poorly.\n",
    "- Try more techniques (advanced ones like neural network, ...) or more sophisticated rules for params\n",
    "- Try harder preprocessing data\n",
    "    + Create a dictionary for interpreting mistyped or abbreviated words\n",
    "    + Regroup specialties (so that the number of tags reduces)\n",
    "    + Translate question into English to make use of English-processing native capabilities\n",
    "    + Train two different models, one processes Vietnamese, one processes non-accented Vietnamese\n",
    "- Input the preprocessed data to AWS model to make it learn better then compare again?\n",
    "\n",
    "#### Notes:\n",
    "- A really weird thing is that though its cross-validation accuracy remains at ~69%, model using pyvi.pyvi.ViTokenizer to tokenize Vietnamese words produces strange results when using model to predict.\n",
    "- <font color='red'>Is there possibly any way to get a target variable containing multiple tags, train the model on it and get multiple tags in result?\n",
    "- If the model is implemented then what is the mechanics that makes it automatically learn new questions (model upgrading)?\n",
    "- Is there a mechanics to enable human to teach the machine? Kind of correcting the model when it makes prediction mistakes? </font>"
   ]
  },
  {
   "cell_type": "code",
   "execution_count": null,
   "metadata": {
    "collapsed": true
   },
   "outputs": [],
   "source": []
  }
 ],
 "metadata": {
  "kernelspec": {
   "display_name": "Python 2",
   "language": "python",
   "name": "python2"
  },
  "language_info": {
   "codemirror_mode": {
    "name": "ipython",
    "version": 2
   },
   "file_extension": ".py",
   "mimetype": "text/x-python",
   "name": "python",
   "nbconvert_exporter": "python",
   "pygments_lexer": "ipython2",
   "version": "2.7.13"
  }
 },
 "nbformat": 4,
 "nbformat_minor": 2
}
